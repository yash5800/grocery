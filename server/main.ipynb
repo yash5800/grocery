{
 "cells": [
  {
   "cell_type": "code",
   "execution_count": 1,
   "id": "37d24a0c",
   "metadata": {},
   "outputs": [],
   "source": [
    "import pandas as pd"
   ]
  },
  {
   "cell_type": "code",
   "execution_count": 2,
   "id": "8d212871",
   "metadata": {},
   "outputs": [],
   "source": [
    "data = [\n",
    "  { \n",
    "    \"id\":1,\n",
    "    \"name\":\"Aashirvaad Sharbati Atta\",\n",
    "    \"url\":\"Aashirvaad.jpg\",\n",
    "    \"itemForm\":\"Atta\"\n",
    "  },\n",
    "  {\n",
    "    \"id\":2,\n",
    "    \"name\":\"groundnut oil vijaya\",\n",
    "    \"url\":\"groundnut_oil.webp\",\n",
    "    \"itemForm\":\"oil\"\n",
    "  },\n",
    "  {\n",
    "    \"id\":3,\n",
    "    \"name\":\"groundnuts\",\n",
    "    \"url\":\"groundnuts.webp\",\n",
    "    \"itemForm\":\"raw\"\n",
    "  },\n",
    "  {\n",
    "    \"id\":4,\n",
    "    \"name\":\"sugar\",\n",
    "    \"url\":\"sugar.jpg\",\n",
    "    \"itemForm\":\"crystal\"\n",
    "  },\n",
    "  {\n",
    "    \"id\":5,\n",
    "    \"name\":\"Tata Salt Crystal\",\n",
    "    \"url\":\"Tata_Salt_Crystal.jpg\",\n",
    "    \"itemForm\":\"crystal\"\n",
    "  },\n",
    "  {\n",
    "    \"id\":6,\n",
    "    \"name\":\"Tata Salt\",\n",
    "    \"url\":\"Tata_Salt.jpg\",\n",
    "    \"itemForm\":\"crystal powder\"\n",
    "  },\n",
    "  {\n",
    "    \"id\":7,\n",
    "    \"name\":\"Sayyam Moti Rai Mustard Seeds | Avalu\",\n",
    "    \"url\":\"avalu.jpg\",\n",
    "    \"itemForm\":\"raw\"\n",
    "    \n",
    "  },\n",
    "  {\n",
    "    \"id\":8,\n",
    "    \"name\":\"Bague Premium Whole Methi Seeds Dana Fenugreek seed | menthulu\",\n",
    "    \"url\":\"menthulu.jpg\",\n",
    "    \"itemForm\":\"raw\"\n",
    "  },\n",
    "  {\n",
    "    \"id\":9,\n",
    "    \"name\":\"elakulu | Emperor Akbar GI Tagged Alleppey Green Cardamom | Elaichi \",\n",
    "    \"url\":\"Elaichi.jpg\",\n",
    "    \"itemForm\":\"raw\"\n",
    "  },\n",
    "  {\n",
    "    \"id\":10,\n",
    "    \"name\":\"Ceylon Cinnamon Sticks | SriLankan Dalchini Sticks\",\n",
    "    \"url\":\"Dalchini.jpg\",\n",
    "    \"itemForm\":\"raw\"\n",
    "  },\n",
    "  {\n",
    "    \"id\":11,\n",
    "    \"name\":\"Vedaka Popular Toor Dal | kandipappu \",\n",
    "    \"url\":\"kandipappu.jpg\",\n",
    "    \"itemForm\":\"raw\"\n",
    "  },\n",
    "  {\n",
    "    \"id\":12,\n",
    "    \"name\":\"pesara pappu | Moong Dal\",\n",
    "    \"url\":\"pesara_pappu.jpg\",\n",
    "    \"itemForm\":\"raw\"\n",
    "  },\n",
    "  {\n",
    "    \"id\":13,\n",
    "    \"name\":\"No Preservatives Whole Moong | pesalu\",\n",
    "    \"url\":\"pesalu.jpg\",\n",
    "    \"itemForm\":\"raw\"\n",
    "  },\n",
    "  {\n",
    "    \"id\":14,\n",
    "    \"name\":\"Vedaka Whole Jeera | gelakarra\",\n",
    "    \"url\":\"gelakarra.jpg\",\n",
    "    \"itemForm\":\"raw\"\n",
    "  },\n",
    "  {\n",
    "    \"id\":15,\n",
    "    \"name\":\"Vedaka Poppy Seeds | gasagasalu\",\n",
    "    \"url\":\"gasagasalu.jpg\",\n",
    "    \"itemForm\":\"raw\"\n",
    "  },\n",
    "  {\n",
    "    \"id\":16,\n",
    "    \"name\":\"Dry Fruit Hub Copra Dry Coconut\",\n",
    "    \"url\":\"Dry_Coconut.jpg\",\n",
    "    \"itemForm\":\"raw\"\n",
    "  },\n",
    "  {\n",
    "    \"id\":17,\n",
    "    \"name\":\"Sunrise Pure Turmeric Spice Powder Pouch | pasupu\",\n",
    "    \"url\":\"pasupu.jpg\",\n",
    "    \"itemForm\":\"raw\"\n",
    "  },\n",
    "  {\n",
    "    \"id\":18,\n",
    "    \"name\":\"senaga pappu | Channa Dal\",\n",
    "    \"url\":\"senaga_pappu.jpg\",\n",
    "    \"itemForm\":\"raw\"\n",
    "  },\n",
    "  \n",
    "]"
   ]
  },
  {
   "cell_type": "code",
   "execution_count": 4,
   "id": "19a04d37",
   "metadata": {},
   "outputs": [
    {
     "name": "stdout",
     "output_type": "stream",
     "text": [
      "{'id': [1, 2, 3, 4, 5, 6, 7, 8, 9, 10, 11, 12, 13, 14, 15, 16, 17, 18], 'name': ['Aashirvaad Sharbati Atta', 'groundnut oil vijaya', 'groundnuts', 'sugar', 'Tata Salt Crystal', 'Tata Salt', 'Sayyam Moti Rai Mustard Seeds | Avalu', 'Bague Premium Whole Methi Seeds Dana Fenugreek seed | menthulu', 'elakulu | Emperor Akbar GI Tagged Alleppey Green Cardamom | Elaichi ', 'Ceylon Cinnamon Sticks | SriLankan Dalchini Sticks', 'Vedaka Popular Toor Dal | kandipappu ', 'pesara pappu | Moong Dal', 'No Preservatives Whole Moong | pesalu', 'Vedaka Whole Jeera | gelakarra', 'Vedaka Poppy Seeds | gasagasalu', 'Dry Fruit Hub Copra Dry Coconut', 'Sunrise Pure Turmeric Spice Powder Pouch | pasupu', 'senaga pappu | Channa Dal'], 'url': ['Aashirvaad.jpg', 'groundnut_oil.webp', 'groundnuts.webp', 'sugar.jpg', 'Tata_Salt_Crystal.jpg', 'Tata_Salt.jpg', 'avalu.jpg', 'menthulu.jpg', 'Elaichi.jpg', 'Dalchini.jpg', 'kandipappu.jpg', 'pesara_pappu.jpg', 'pesalu.jpg', 'gelakarra.jpg', 'gasagasalu.jpg', 'Dry_Coconut.jpg', 'pasupu.jpg', 'senaga_pappu.jpg'], 'itemform': ['Atta', 'oil', 'raw', 'crystal', 'crystal', 'crystal powder', 'raw', 'raw', 'raw', 'raw', 'raw', 'raw', 'raw', 'raw', 'raw', 'raw', 'raw', 'raw']}\n"
     ]
    }
   ],
   "source": [
    "\n",
    "\n",
    "l = {\n",
    "  'id':[],\n",
    "  'name':[],\n",
    "  'url':[],\n",
    "  'itemform':[]\n",
    "}\n",
    "\n",
    "for i in data:\n",
    "  l['id'].append(i['id'])\n",
    "  l['name'].append(i['name'])\n",
    "  l['url'].append(i['url'])\n",
    "  l['itemform'].append(i['itemForm'])\n",
    "  \n",
    "print(l)"
   ]
  },
  {
   "cell_type": "code",
   "execution_count": 12,
   "id": "c0249b58",
   "metadata": {},
   "outputs": [
    {
     "name": "stdout",
     "output_type": "stream",
     "text": [
      "Collecting pandas\n",
      "  Using cached pandas-2.2.3-cp312-cp312-win_amd64.whl.metadata (19 kB)\n",
      "Requirement already satisfied: numpy>=1.26.0 in d:\\projects\\ge\\.venv\\lib\\site-packages (from pandas) (2.2.6)\n",
      "Requirement already satisfied: python-dateutil>=2.8.2 in d:\\projects\\ge\\.venv\\lib\\site-packages (from pandas) (2.9.0.post0)\n",
      "Collecting pytz>=2020.1 (from pandas)\n",
      "  Using cached pytz-2025.2-py2.py3-none-any.whl.metadata (22 kB)\n",
      "Collecting tzdata>=2022.7 (from pandas)\n",
      "  Using cached tzdata-2025.2-py2.py3-none-any.whl.metadata (1.4 kB)\n",
      "Requirement already satisfied: six>=1.5 in d:\\projects\\ge\\.venv\\lib\\site-packages (from python-dateutil>=2.8.2->pandas) (1.17.0)\n",
      "Using cached pandas-2.2.3-cp312-cp312-win_amd64.whl (11.5 MB)\n",
      "Using cached pytz-2025.2-py2.py3-none-any.whl (509 kB)\n",
      "Using cached tzdata-2025.2-py2.py3-none-any.whl (347 kB)\n",
      "Installing collected packages: pytz, tzdata, pandas\n",
      "Successfully installed pandas-2.2.3 pytz-2025.2 tzdata-2025.2\n",
      "Note: you may need to restart the kernel to use updated packages.\n"
     ]
    },
    {
     "name": "stderr",
     "output_type": "stream",
     "text": [
      "\n",
      "[notice] A new release of pip is available: 24.0 -> 25.1.1\n",
      "[notice] To update, run: python.exe -m pip install --upgrade pip\n"
     ]
    }
   ],
   "source": [
    "%pip install pandas"
   ]
  },
  {
   "cell_type": "code",
   "execution_count": 13,
   "id": "f6777cf7",
   "metadata": {},
   "outputs": [
    {
     "data": {
      "text/html": [
       "<div>\n",
       "<style scoped>\n",
       "    .dataframe tbody tr th:only-of-type {\n",
       "        vertical-align: middle;\n",
       "    }\n",
       "\n",
       "    .dataframe tbody tr th {\n",
       "        vertical-align: top;\n",
       "    }\n",
       "\n",
       "    .dataframe thead th {\n",
       "        text-align: right;\n",
       "    }\n",
       "</style>\n",
       "<table border=\"1\" class=\"dataframe\">\n",
       "  <thead>\n",
       "    <tr style=\"text-align: right;\">\n",
       "      <th></th>\n",
       "      <th>id</th>\n",
       "      <th>name</th>\n",
       "      <th>url</th>\n",
       "      <th>itemform</th>\n",
       "    </tr>\n",
       "  </thead>\n",
       "  <tbody>\n",
       "    <tr>\n",
       "      <th>0</th>\n",
       "      <td>1</td>\n",
       "      <td>Aashirvaad Sharbati Atta</td>\n",
       "      <td>Aashirvaad.jpg</td>\n",
       "      <td>Atta</td>\n",
       "    </tr>\n",
       "    <tr>\n",
       "      <th>1</th>\n",
       "      <td>2</td>\n",
       "      <td>groundnut oil vijaya</td>\n",
       "      <td>groundnut_oil.webp</td>\n",
       "      <td>oil</td>\n",
       "    </tr>\n",
       "    <tr>\n",
       "      <th>2</th>\n",
       "      <td>3</td>\n",
       "      <td>groundnuts</td>\n",
       "      <td>groundnuts.webp</td>\n",
       "      <td>raw</td>\n",
       "    </tr>\n",
       "    <tr>\n",
       "      <th>3</th>\n",
       "      <td>4</td>\n",
       "      <td>sugar</td>\n",
       "      <td>sugar.jpg</td>\n",
       "      <td>crystal</td>\n",
       "    </tr>\n",
       "    <tr>\n",
       "      <th>4</th>\n",
       "      <td>5</td>\n",
       "      <td>Tata Salt Crystal</td>\n",
       "      <td>Tata_Salt_Crystal.jpg</td>\n",
       "      <td>crystal</td>\n",
       "    </tr>\n",
       "  </tbody>\n",
       "</table>\n",
       "</div>"
      ],
      "text/plain": [
       "   id                      name                    url itemform\n",
       "0   1  Aashirvaad Sharbati Atta         Aashirvaad.jpg     Atta\n",
       "1   2      groundnut oil vijaya     groundnut_oil.webp      oil\n",
       "2   3                groundnuts        groundnuts.webp      raw\n",
       "3   4                     sugar              sugar.jpg  crystal\n",
       "4   5         Tata Salt Crystal  Tata_Salt_Crystal.jpg  crystal"
      ]
     },
     "execution_count": 13,
     "metadata": {},
     "output_type": "execute_result"
    }
   ],
   "source": [
    "import pandas as pd\n",
    "df = pd.DataFrame(l)\n",
    "\n",
    "df.head()"
   ]
  },
  {
   "cell_type": "code",
   "execution_count": 14,
   "id": "1f88176c",
   "metadata": {},
   "outputs": [
    {
     "data": {
      "text/plain": [
       "0     None\n",
       "1     None\n",
       "2     None\n",
       "3     None\n",
       "4     None\n",
       "5     None\n",
       "6     None\n",
       "7     None\n",
       "8     None\n",
       "9     None\n",
       "10    None\n",
       "11    None\n",
       "12    None\n",
       "13    None\n",
       "14    None\n",
       "15    None\n",
       "16    None\n",
       "17    None\n",
       "dtype: object"
      ]
     },
     "execution_count": 14,
     "metadata": {},
     "output_type": "execute_result"
    }
   ],
   "source": [
    "str_doc = []\n",
    "\n",
    "def to_str(row):\n",
    "   str_doc.append(f\"id:{row['id']}  name:{row['name']}  url:{row['url']}  itemform:{row['itemform']}\")\n",
    " \n",
    "df.apply(to_str,axis=1)"
   ]
  },
  {
   "cell_type": "code",
   "execution_count": 15,
   "id": "9f627bf0",
   "metadata": {},
   "outputs": [],
   "source": [
    "from langchain.schema import Document\n",
    "\n",
    "doc = [\n",
    "   Document(\n",
    "     page_content=item,\n",
    "     metadata={'type':'Products'}\n",
    "   )\n",
    "   for item in str_doc\n",
    "]"
   ]
  },
  {
   "cell_type": "code",
   "execution_count": 16,
   "id": "01d57600",
   "metadata": {},
   "outputs": [],
   "source": [
    "from langchain.embeddings import HuggingFaceEmbeddings\n",
    "from langchain.vectorstores import FAISS\n",
    "\n",
    "hf_emb = HuggingFaceEmbeddings(model_name='all-MiniLM-L6-v2')\n",
    "product_vector = FAISS.from_documents(doc,hf_emb)\n",
    "\n",
    "product_vector.save_local('Product_Vector')"
   ]
  },
  {
   "cell_type": "code",
   "execution_count": null,
   "id": "6932b2cd",
   "metadata": {},
   "outputs": [],
   "source": []
  },
  {
   "cell_type": "code",
   "execution_count": null,
   "id": "41c14bb1",
   "metadata": {},
   "outputs": [],
   "source": []
  },
  {
   "cell_type": "code",
   "execution_count": null,
   "id": "c7595968",
   "metadata": {},
   "outputs": [],
   "source": []
  },
  {
   "cell_type": "code",
   "execution_count": null,
   "id": "e799ac1f",
   "metadata": {},
   "outputs": [],
   "source": []
  },
  {
   "cell_type": "code",
   "execution_count": null,
   "id": "a469e1bb",
   "metadata": {},
   "outputs": [],
   "source": [
    "from langchain.embeddings import HuggingFaceEmbeddings\n",
    "from langchain.vectorstores import FAISS"
   ]
  }
 ],
 "metadata": {
  "kernelspec": {
   "display_name": ".venv",
   "language": "python",
   "name": "python3"
  },
  "language_info": {
   "codemirror_mode": {
    "name": "ipython",
    "version": 3
   },
   "file_extension": ".py",
   "mimetype": "text/x-python",
   "name": "python",
   "nbconvert_exporter": "python",
   "pygments_lexer": "ipython3",
   "version": "3.12.2"
  }
 },
 "nbformat": 4,
 "nbformat_minor": 5
}
